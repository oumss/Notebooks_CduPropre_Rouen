{
 "cells": [
  {
   "cell_type": "code",
   "execution_count": 1,
   "id": "7d28dff0-85f7-4c7c-9105-2e05d24b7644",
   "metadata": {
    "tags": []
   },
   "outputs": [],
   "source": [
    "!pip install -q \\\n",
    "    torch==1.11.0+cu113 \\\n",
    "    torchvision==0.12.0+cu113 \\\n",
    "    torchaudio==0.11.0 \\\n",
    "    gcc7 \\\n",
    "    opendatasets \\\n",
    "    pycocotools \\\n",
    "    split-folders \\\n",
    "    --extra-index-url https://download.pytorch.org/whl/cu113\n",
    "!pip install -q --upgrade scipy"
   ]
  },
  {
   "cell_type": "code",
   "execution_count": 2,
   "id": "7000dcd3-5a50-446f-acb4-097c12cacf9f",
   "metadata": {
    "tags": []
   },
   "outputs": [],
   "source": [
    "import torch\n",
    "#model_inference = torch.hub.load('yolov5', 'custom', path='../weights/exp7/last.pt', source='local')"
   ]
  },
  {
   "cell_type": "code",
   "execution_count": 3,
   "id": "e968d6de-c582-451b-bab6-ad2468e9a762",
   "metadata": {
    "tags": []
   },
   "outputs": [
    {
     "name": "stderr",
     "output_type": "stream",
     "text": [
      "YOLOv5 🚀 2023-5-9 Python-3.10.8 torch-1.11.0+cu113 CUDA:0 (Tesla T4, 14972MiB)\n",
      "\n",
      "Fusing layers... \n",
      "YOLOv5m summary: 290 layers, 21091353 parameters, 0 gradients\n",
      "Adding AutoShape... \n"
     ]
    }
   ],
   "source": [
    "import os\n",
    "from flask import Flask, request, jsonify, flash\n",
    "from src.model import load_model, predict\n",
    "\n",
    "from werkzeug.utils import secure_filename\n",
    "\n",
    "app = Flask(__name__)\n",
    "\n",
    "load_model()\n",
    "\n",
    "UPLOAD_FOLDER = \"/tmp\"\n",
    "ALLOWED_EXTENSIONS = {'png', 'jpg', 'jpeg'}"
   ]
  },
  {
   "cell_type": "code",
   "execution_count": null,
   "id": "6205dac6-8137-4382-932e-e1a318d431fd",
   "metadata": {
    "tags": []
   },
   "outputs": [],
   "source": [
    "@app.route('/predict', methods=['POST'])\n",
    "def predict_duration():\n",
    "    if 'file' not in request.files:\n",
    "        return jsonify({}), 400\n",
    "    \n",
    "    file = request.files['file']\n",
    "    filename = os.path.join(\"/tmp\", file.filename)\n",
    "    file.save(filename)\n",
    "    predictions = predict(filename)\n",
    "    # Après la prédiction, on supprime le fichier\n",
    "    os.remove(filename)\n",
    "\n",
    "    # Pour chaque prédiction, on a :\n",
    "    # (catégorie, [x, y, w, h, probabilité])\n",
    "    return jsonify(predictions if predictions else []), 200\n",
    "\n",
    "if __name__ == \"__main__\":\n",
    "    app.run(host=\"0.0.0.0\", port=5000)\n"
   ]
  },
  {
   "cell_type": "code",
   "execution_count": null,
   "id": "2bb6bacf-ed0a-4d96-8346-0116e6736fe8",
   "metadata": {},
   "outputs": [],
   "source": []
  }
 ],
 "metadata": {
  "kernelspec": {
   "display_name": "conda_tensorflow2_p310",
   "language": "python",
   "name": "conda_tensorflow2_p310"
  },
  "language_info": {
   "codemirror_mode": {
    "name": "ipython",
    "version": 3
   },
   "file_extension": ".py",
   "mimetype": "text/x-python",
   "name": "python",
   "nbconvert_exporter": "python",
   "pygments_lexer": "ipython3",
   "version": "3.10.8"
  }
 },
 "nbformat": 4,
 "nbformat_minor": 5
}
