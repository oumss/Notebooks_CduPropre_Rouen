{
 "cells": [
  {
   "cell_type": "markdown",
   "id": "31f1844c-232a-4928-9dae-c69679e7aa51",
   "metadata": {
    "tags": []
   },
   "source": [
    "# Installation des dépendances\n",
    "\n",
    "Pour pouvoir exécuter ce Notebook, l'environnement de développement doit être bien configuré. Puisque dans ce POC nous utilisons YoloV5, il faut installer de nombreuses dépendances dont PyTorch.\n",
    "\n",
    "<div class=\"alert alert-info\">\n",
    "    Afin d'exécuter ce Notebook sur AWS SageMaker, il faut utiliser le kernel <code>conda_python3</code>.\n",
    "</div>\n",
    "\n",
    "<div class=\"alert alert-info\">\n",
    "    Il faut compter environ 5 minutes pour l'installation des dépendances.\n",
    "</div>"
   ]
  },
  {
   "cell_type": "code",
   "execution_count": null,
   "id": "e050391e-b398-4ed3-842d-6edc4c1a72af",
   "metadata": {},
   "outputs": [],
   "source": [
    "!git clone https://github.com/rkuo2000/yolov5"
   ]
  },
  {
   "cell_type": "markdown",
   "id": "ebb5cf22-db90-49da-aaef-ba62d89cd04f",
   "metadata": {},
   "source": [
    "On installe ensuite les dépendances pour YoloV5."
   ]
  },
  {
   "cell_type": "code",
   "execution_count": null,
   "id": "7ed2f0c1-f958-4de7-9b6c-d2356041f848",
   "metadata": {},
   "outputs": [],
   "source": [
    "!pip install -q -r yolov5/requirements.txt"
   ]
  },
  {
   "cell_type": "markdown",
   "id": "b8a1c99b-3666-4d5e-827f-b9d73885dd5e",
   "metadata": {},
   "source": [
    "Enfin, nous installons les dépendances liées aux frameworks Deep Learning (ici PyTorch).\n",
    "\n",
    "<div class=\"alert alert-warning\">\n",
    "    Attention, il faut utiliser la bonne version de PyTorch : sur SageMaker, c'est la version <code>1.11.0+cu113</code> mais sur un autre environment, cela peut être différent !\n",
    "</div>"
   ]
  },
  {
   "cell_type": "code",
   "execution_count": null,
   "id": "47fe1b86-795c-42dd-a5e8-bb3be33f9617",
   "metadata": {},
   "outputs": [],
   "source": [
    "!pip install -q \\\n",
    "    torch==1.11.0+cu113 \\\n",
    "    torchvision==0.12.0+cu113 \\\n",
    "    torchaudio==0.11.0 \\\n",
    "    gcc7 \\\n",
    "    opendatasets \\\n",
    "    pycocotools \\\n",
    "    split-folders \\\n",
    "    --extra-index-url https://download.pytorch.org/whl/cu113"
   ]
  },
  {
   "cell_type": "code",
   "execution_count": null,
   "id": "9b2233a9-fad3-489b-8744-60d0fb0ee7f8",
   "metadata": {},
   "outputs": [],
   "source": [
    "# Ceci est une petite correction nécessaire pour YoloV5\n",
    "!pip install -q --upgrade scipy"
   ]
  },
  {
   "cell_type": "markdown",
   "id": "b3c85524-0e4e-41e3-8c2f-d012711993e0",
   "metadata": {
    "tags": []
   },
   "source": [
    "<div class=\"alert alert-info\">\n",
    "    Il est nécessaire de créer un compte sur <a href=\"https://kaggle.com\" target=\"_blank\">Kaggle</a> pour télécharger les données.\n",
    "</div>"
   ]
  },
  {
   "cell_type": "code",
   "execution_count": null,
   "id": "1435366b-394e-4d13-8510-92e29d5c7da8",
   "metadata": {},
   "outputs": [],
   "source": [
    "import opendatasets as od\n",
    "\n",
    "od.download(\"https://www.kaggle.com/datasets/kneroma/tacotrashdataset\")"
   ]
  },
  {
   "cell_type": "markdown",
   "id": "d04083dd-1ca1-4a1e-882b-c04d9264835f",
   "metadata": {},
   "source": [
    "# Préparation des données\n",
    "\n",
    "Le but de cette partie est de **transformer le fichier d'annotations JSON en plusieurs fichier texte** que le modèle YoloV5 va utiliser pour s'entraîner et notamment apprendre quelles bounding boxes il doit être capable de retrouver.\n",
    "\n",
    "Dans ce format, il y a ainsi **un fichier texte par image** où pour chaque déchet dans l'image est associée une ligne contenant l'identifiant du déchet et les coordonnées de la bounding box. Dans l'exemple suivant, l'image associée contiendrait 2 types de déchets (identifiants 4 et 7) et 3 déchets présents sur l'image."
   ]
  },
  {
   "cell_type": "raw",
   "id": "ee4037a1-af8c-415d-ac7f-b28bf5921bfd",
   "metadata": {},
   "source": [
    "4 0.282368 0.478282 0.369551 0.636408\n",
    "4 0.69974 0.540264 0.355888 0.685212\n",
    "7 0.728042 0.244265 0.192583 0.093216"
   ]
  },
  {
   "cell_type": "code",
   "execution_count": null,
   "id": "46f330dd-3118-46be-bb0d-5aafd2ab39f3",
   "metadata": {
    "scrolled": false,
    "tags": []
   },
   "outputs": [],
   "source": [
    "from pycocotools.coco import COCO\n",
    "\n",
    "# On importe le fichier des annotations sous la forme d'un objet COCO\n",
    "data_source = COCO(annotation_file=\"./tacotrashdataset/data/annotations.json\")"
   ]
  },
  {
   "cell_type": "markdown",
   "id": "2634d52e-8436-4240-bc35-c4b23b4fe071",
   "metadata": {},
   "source": [
    "On extrait ensuite les identifiants des images, des catégories et des super catégories.\n",
    "\n",
    "### ➡️ À toi de jouer\n",
    "\n",
    "Créer les objets Python suivants.\n",
    "\n",
    "- `categories` est une lmiste contient l'ensemble des catégories avec un identifiant (`id`), le nom de la catégorie (`name`) et le nom de la super catégorie (`supecategory`). Par exemple, on aura `[{'supercategory': 'Aluminium foil', 'id': 0, 'name': 'Aluminium foil'}, ...]`.\n",
    "- `classes_num` est un dictionnaire qui indique l'identifiant (`id`) de n'importe quel catégorie. Par exemple, on aura `{'Aluminium foil': 0, 'Battery': 1, ...}`.\n",
    "- `coco_labels` est un dictionnaire qui contient, pour chaque clé incrémentale, l'identifiant de la catégorie. Par exemple, on aura `{0: 0, 1: 1, ...}`. On utilise ce dictionnaire si par exemple on ne souhaite pas utiliser 100% des catégories disponibles, mais uniquement une partie.\n",
    "- `coco_labels_inverse` est le dictionnaire inverse de `coco_labels` : si `coco_labels[A] = B`, alors `coco_labels_inverse[B] = A`."
   ]
  },
  {
   "cell_type": "code",
   "execution_count": null,
   "id": "5f130961-ecae-4619-ae17-76b81042fd97",
   "metadata": {
    "tags": []
   },
   "outputs": [],
   "source": [
    "img_ids = data_source.getImgIds()\n",
    "catIds = data_source.getCatIds()\n",
    "categories = data_source.loadCats(catIds)\n",
    "# Trier les catégories selon l'ID\n",
    "# TODO\n",
    "categories\n",
    "\n",
    "# ...\n",
    "\n",
    "classes = {}\n",
    "coco_labels = {}\n",
    "coco_labels_inverse = {}\n",
    "\n",
    "# Pour chaque catégorie\n",
    "for c in categories:\n",
    "    # Remplir les variables coco_labels, coco_labels_inverse et classes\n",
    "    # TODO\n",
    "    # ...\n",
    "\n",
    "class_num = {}"
   ]
  },
  {
   "cell_type": "markdown",
   "id": "9a07a1b9-7084-448f-9486-f3193fff44d4",
   "metadata": {},
   "source": [
    "On peut vérifier que l'on dipose de toutes les informations en affichant une dizaine de super catégories."
   ]
  },
  {
   "cell_type": "code",
   "execution_count": null,
   "id": "52947a5a-68f0-4ff8-8a7e-d1bb378926cb",
   "metadata": {
    "tags": []
   },
   "outputs": [],
   "source": [
    "categories[:10]"
   ]
  },
  {
   "cell_type": "markdown",
   "id": "564f7fe5-abdf-44e1-86c7-88f1c712c565",
   "metadata": {},
   "source": [
    "De même pour les catégories."
   ]
  },
  {
   "cell_type": "code",
   "execution_count": null,
   "id": "cf20c5b1-71b9-4066-a012-eb7b3b76000c",
   "metadata": {
    "tags": []
   },
   "outputs": [],
   "source": [
    "classes"
   ]
  },
  {
   "cell_type": "markdown",
   "id": "b823b6f9-26a3-4485-9cad-55a384390bfb",
   "metadata": {},
   "source": [
    "Si tout est bon, nous pouvons alors construire les fichiers texte.\n",
    "\n",
    "### ➡️ À toi de jouer\n",
    "\n",
    "Pour chaque image, nous allons créer un fichier texte qui contient les annotations. Pour cela, nous allons donc utiliser la variable `coco_labels_inverse` pour chaque ligne d'annotation, et remplir le reste de la ligne avec la bounding box associée."
   ]
  },
  {
   "cell_type": "code",
   "execution_count": null,
   "id": "e0cf4809-28e3-4bd1-8600-080f499d4b97",
   "metadata": {},
   "outputs": [],
   "source": [
    "# Nous créons un dossier temporaire pour y mettre les images et les fichiers texte\n",
    "!mkdir -p tmp/labels tmp/images\n",
    "\n",
    "save_base_path  = 'tmp/labels/'\n",
    "save_image_path = 'tmp/images/'\n",
    "\n",
    "# Cette boucle permet d'extraire le contenu de chaque fichier texte à partir du fichier annotation et de créer le fichier\n",
    "for index, img_id in tqdm.tqdm(enumerate(img_ids), desc=\"Conversion fichier JSON en fichier texte\"):\n",
    "    # Pour chaque image on extrait le nom et ses dimensions\n",
    "    img_info = data_source.loadImgs(img_id)[0]\n",
    "    save_name = img_info['file_name'].replace('/', '_')\n",
    "    file_name = save_name.split('.')[0]\n",
    "    height = img_info['height']\n",
    "    width = img_info['width']\n",
    "    \n",
    "    # On créé le fichier texte\n",
    "    save_path = save_base_path + file_name + '.txt'\n",
    "    is_exist = False \n",
    "    \n",
    "    # On remplit le fichier\n",
    "    with open(save_path, mode='w') as fp:\n",
    "        # Extraction de l'identifiant de la catégorie\n",
    "        annotation_id = data_source.getAnnIds(img_id)\n",
    "        boxes = np.zeros((0, 5))\n",
    "        if len(annotation_id) == 0: \n",
    "            fp.write('')\n",
    "            continue\n",
    "            \n",
    "        # Récupération des bounding boxes\n",
    "        annotations = data_source.loadAnns(annotation_id)\n",
    "        lines = ''  \n",
    "        for annotation in annotations:\n",
    "            # Pour chaque annotation, récupérer le label depuis coco_labels_inverse et ajouter les bounding box sur la ligne.\n",
    "            # TODO\n",
    "            # ...\n",
    "            \n",
    "        fp.writelines(lines)\n",
    "        \n",
    "    # Si tout est OK, on enregistre dans le dossier data\n",
    "    if is_exist:\n",
    "        shutil.copy('./tacotrashdataset/data/{}'.format(img_info['file_name']), os.path.join(save_image_path, save_name))\n",
    "    else:\n",
    "        os.remove(save_path)"
   ]
  },
  {
   "cell_type": "markdown",
   "id": "df2585b2-28c1-4fb6-9711-1bb04211a5c8",
   "metadata": {},
   "source": [
    "Pour terminer, il ne reste plus qu'à découper le dossier en trois sous-dossiers, qui vont représenter nos sous-ensembles d'entraînement, de test et de validation."
   ]
  },
  {
   "cell_type": "code",
   "execution_count": null,
   "id": "010f4d3b-c6da-4778-ae8a-41d6bf328131",
   "metadata": {},
   "outputs": [],
   "source": [
    "import splitfolders\n",
    "\n",
    "splitfolders.ratio(\"tmp\", output=\"taco\", ratio=(0.8, 0.1,0.1))"
   ]
  },
  {
   "cell_type": "markdown",
   "id": "b9d812f2-b762-46ba-b62a-c8aa40d1d5e3",
   "metadata": {},
   "source": [
    "Au final, notre dossier `taco/` va contenir nos trois dossiers : nous pouvons alors supprimer le dossier temporaire `tmp/`."
   ]
  },
  {
   "cell_type": "code",
   "execution_count": null,
   "id": "0ff5ee6a-ff07-4225-99a3-6f80c851d672",
   "metadata": {},
   "outputs": [],
   "source": [
    "!rm -rf ./tmp"
   ]
  }
 ],
 "metadata": {
  "kernelspec": {
   "display_name": "Python 3 (ipykernel)",
   "language": "python",
   "name": "python3"
  },
  "language_info": {
   "codemirror_mode": {
    "name": "ipython",
    "version": 3
   },
   "file_extension": ".py",
   "mimetype": "text/x-python",
   "name": "python",
   "nbconvert_exporter": "python",
   "pygments_lexer": "ipython3",
   "version": "3.9.12"
  }
 },
 "nbformat": 4,
 "nbformat_minor": 5
}
